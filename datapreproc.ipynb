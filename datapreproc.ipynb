{
 "cells": [
  {
   "cell_type": "code",
   "execution_count": 1,
   "metadata": {},
   "outputs": [],
   "source": [
    "import pandas as pd\n",
    "import os\n",
    "from ast import literal_eval"
   ]
  },
  {
   "cell_type": "code",
   "execution_count": 2,
   "metadata": {},
   "outputs": [],
   "source": [
    "df = pd.read_csv('RAW_recipes.csv', sep=',', encoding='utf8', engine='python')\n",
    "#df = pd.read_csv('litcsv.csv', sep=',', encoding='utf8', engine='python', converters={'name': literal_eval, 'ingredients': ast.literal_eval})\n",
    "df.drop(['id', 'minutes', 'contributor_id', 'submitted', 'tags', 'nutrition', 'n_steps', 'n_ingredients'], axis=1, inplace=True)\n",
    "df = df.fillna('none')\n",
    "#df.dropna(axis=0, how='any', thresh=None, subset=None, inplace=True)\n",
    "#df.dropna(inplace=True)\n",
    "df = df.replace(r'\\\\n','', regex=True)\n",
    "df = df.replace(r'\\n', '', regex=True)\n",
    "#df.head()"
   ]
  },
  {
   "cell_type": "code",
   "execution_count": null,
   "metadata": {},
   "outputs": [],
   "source": [
    "myfile = open(r\"finetune.txt\",\"a\", encoding=\"utf-8\") #a stands for append\n",
    "#for i in range (0,231637):\n",
    "for i in range(0, df.shape[0]):\n",
    "    df.shape[0]\n",
    "    name = df.loc[i]['name']\n",
    "    desc= df.loc[i]['description']\n",
    "    ingreds = df.loc[i]['ingredients']\n",
    "    steps = df.loc[i]['steps']\n",
    "    myfile.write(f'|NAME:{name}|DESC:{desc}|INGREDIENTS:{ingreds}|STEPS:{steps}<|endoftext|>')\n",
    "myfile.close()"
   ]
  },
  {
   "cell_type": "code",
   "execution_count": null,
   "metadata": {},
   "outputs": [],
   "source": [
    "#for i in range(0, 231637):\n",
    "#for i in range(0, df.shape[0]):\n",
    "#    print(i)\n",
    "#    df['ingredients'][i] = ast.literal_eval(df['ingredients'][i])"
   ]
  },
  {
   "cell_type": "code",
   "execution_count": null,
   "metadata": {},
   "outputs": [],
   "source": [
    "#df['ingredients'].replace(regex=True,inplace=True,to_replace='\\[',value='')\n",
    "#df['ingredients'].replace(regex=True,inplace=True,to_replace='\\]',value='')\n",
    "#df['steps'].replace(regex=True,inplace=True,to_replace='\\[',value='')\n",
    "#df['steps'].replace(regex=True,inplace=True,to_replace='\\]',value='')\n",
    "#df['ingredients'].replace(regex=True,inplace=True,to_replace='\\'',value='')\n",
    "#df['steps'].replace(regex=True,inplace=True,to_replace='\\'',value='')"
   ]
  },
  {
   "cell_type": "code",
   "execution_count": null,
   "metadata": {},
   "outputs": [],
   "source": [
    "# from sklearn.preprocessing import MultiLabelBinarizer\n",
    "# mlb = MultiLabelBinarizer()\n",
    "\n",
    "# #testdf = pd.DataFrame({\n",
    "# #          'ingredients':[['apple','banana'],['banana','carrot']]\n",
    "# #          })\n",
    "\n",
    "# df2 = df.join(pd.DataFrame(mlb.fit_transform(df.pop('ingredients')),\n",
    "#                           columns=mlb.classes_,\n",
    "#                           index=df.index))\n",
    "# df2\n",
    "\n",
    "\n",
    "# # Get one hot encoding of columns B\n",
    "# #one_hot = pd.get_dummies(testdf['ingredients'])\n",
    "# #one_hot"
   ]
  },
  {
   "cell_type": "code",
   "execution_count": null,
   "metadata": {},
   "outputs": [],
   "source": [
    "#aaa = df['ingredients'].tolist()"
   ]
  },
  {
   "cell_type": "code",
   "execution_count": null,
   "metadata": {},
   "outputs": [],
   "source": [
    "# from collections import defaultdict\n",
    "\n",
    "# bbb = df.ingredients.unique()\n",
    "# ccc = ', '.join(bbb)\n",
    "# ing_dict = defaultdict(int)\n",
    "# #for \n",
    "# for i in range(len(bbb)):\n",
    "#     ddd = bbb[i].split(', ')\n",
    "#     for x in range(len(ddd)):\n",
    "#         key = ddd[x]\n",
    "#         ing_dict[key] =0\n",
    "# print(ing_dict)"
   ]
  }
 ],
 "metadata": {
  "kernelspec": {
   "display_name": "Python 3",
   "language": "python",
   "name": "python3"
  },
  "language_info": {
   "codemirror_mode": {
    "name": "ipython",
    "version": 3
   },
   "file_extension": ".py",
   "mimetype": "text/x-python",
   "name": "python",
   "nbconvert_exporter": "python",
   "pygments_lexer": "ipython3",
   "version": "3.7.3"
  }
 },
 "nbformat": 4,
 "nbformat_minor": 2
}
